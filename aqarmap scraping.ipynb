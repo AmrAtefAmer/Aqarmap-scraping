{
 "cells": [
  {
   "cell_type": "code",
   "execution_count": 12,
   "id": "ee10b1da",
   "metadata": {},
   "outputs": [],
   "source": [
    "import requests\n",
    "from bs4 import BeautifulSoup\n",
    "import pandas as pd\n",
    "import matplotlib.pyplot as plt\n",
    "import seaborn as sns"
   ]
  },
  {
   "cell_type": "code",
   "execution_count": 71,
   "id": "d16b204b",
   "metadata": {},
   "outputs": [],
   "source": [
    "place=[]\n",
    "area=[]\n",
    "building=[]\n",
    "bedroom=[]\n",
    "bath=[]\n",
    "price=[]"
   ]
  },
  {
   "cell_type": "code",
   "execution_count": 72,
   "id": "5197b35f",
   "metadata": {},
   "outputs": [],
   "source": [
    "def scrap_aqarmap(build,num):\n",
    "    url=f'https://aqarmap.com.eg/en/for-sale/{build}/?page={num}'\n",
    "    response=requests.get(url)\n",
    "    apartments=BeautifulSoup(response.text,'html.parser')\n",
    "    big_div=apartments.find_all('div',{'class':'small-card search-Result-Card col-lg-6 col-md-6 col-sm-12 col-xs-12'})\n",
    "    for item in big_div:\n",
    "        try:\n",
    "            place.append(item.find('p',{'class':'card-details-address'}).text.strip(f'\\n'))\n",
    "        except:\n",
    "            place.append(None)\n",
    "        try:\n",
    "            building.append(item.find_all('label')[0].text.strip(f'\\n'))\n",
    "        except:\n",
    "            building.append(None)\n",
    "        try:\n",
    "            area.append(float(item.find_all('label')[1].text.strip(f'\\n,M²')))\n",
    "        except:\n",
    "            area.append(None)\n",
    "        try:\n",
    "            bedroom.append(int(item.find_all('label')[2].text.strip(f'\\n, Bedrooms')))\n",
    "        except:\n",
    "            bedroom.append(None)\n",
    "        try:\n",
    "            bath.append(int(item.find_all('label')[3].text.strip(f'\\n, Baths')))\n",
    "        except:\n",
    "            bath.append(None)\n",
    "        try:\n",
    "            price.append(int(item.find('div',{'class':'price-container mb-4'}).span.text.replace(',','')))\n",
    "        except:\n",
    "            price.append(None)\n",
    "    return\n",
    "\n"
   ]
  },
  {
   "cell_type": "code",
   "execution_count": 73,
   "id": "85e85671",
   "metadata": {},
   "outputs": [],
   "source": [
    "for i in range(1,21):\n",
    "    scrap_aqarmap('apartment',i)"
   ]
  },
  {
   "cell_type": "code",
   "execution_count": 74,
   "id": "b3d5e6ec",
   "metadata": {},
   "outputs": [
    {
     "name": "stdout",
     "output_type": "stream",
     "text": [
      "598\n",
      "598\n",
      "598\n",
      "598\n",
      "598\n"
     ]
    }
   ],
   "source": [
    "print(len(place))\n",
    "print(len(area))\n",
    "print(len(building))\n",
    "print(len(bedroom))\n",
    "print(len(bath))"
   ]
  },
  {
   "cell_type": "code",
   "execution_count": 75,
   "id": "1385ed17",
   "metadata": {},
   "outputs": [],
   "source": [
    "data={'place':place,'area':area,'building':building,'bedroom':bedroom,'bath':bath,'price':price}"
   ]
  },
  {
   "cell_type": "code",
   "execution_count": 76,
   "id": "a4631fa2",
   "metadata": {},
   "outputs": [],
   "source": [
    "apartments_df=pd.DataFrame(data)"
   ]
  },
  {
   "cell_type": "code",
   "execution_count": 77,
   "id": "8e303aed",
   "metadata": {
    "scrolled": true
   },
   "outputs": [
    {
     "data": {
      "text/html": [
       "<div>\n",
       "<style scoped>\n",
       "    .dataframe tbody tr th:only-of-type {\n",
       "        vertical-align: middle;\n",
       "    }\n",
       "\n",
       "    .dataframe tbody tr th {\n",
       "        vertical-align: top;\n",
       "    }\n",
       "\n",
       "    .dataframe thead th {\n",
       "        text-align: right;\n",
       "    }\n",
       "</style>\n",
       "<table border=\"1\" class=\"dataframe\">\n",
       "  <thead>\n",
       "    <tr style=\"text-align: right;\">\n",
       "      <th></th>\n",
       "      <th>place</th>\n",
       "      <th>area</th>\n",
       "      <th>building</th>\n",
       "      <th>bedroom</th>\n",
       "      <th>bath</th>\n",
       "      <th>price</th>\n",
       "    </tr>\n",
       "  </thead>\n",
       "  <tbody>\n",
       "    <tr>\n",
       "      <th>0</th>\n",
       "      <td>الحي الأول, بيت الوطن</td>\n",
       "      <td>115.0</td>\n",
       "      <td>Roof</td>\n",
       "      <td>2.0</td>\n",
       "      <td>2.0</td>\n",
       "      <td>718750</td>\n",
       "    </tr>\n",
       "    <tr>\n",
       "      <th>1</th>\n",
       "      <td>New Administrative Capital</td>\n",
       "      <td>156.0</td>\n",
       "      <td>Apartments</td>\n",
       "      <td>3.0</td>\n",
       "      <td>3.0</td>\n",
       "      <td>1860000</td>\n",
       "    </tr>\n",
       "    <tr>\n",
       "      <th>2</th>\n",
       "      <td>Mostakbal City</td>\n",
       "      <td>83.0</td>\n",
       "      <td>Duplex</td>\n",
       "      <td>1.0</td>\n",
       "      <td>1.0</td>\n",
       "      <td>1490110</td>\n",
       "    </tr>\n",
       "    <tr>\n",
       "      <th>3</th>\n",
       "      <td>Mostakbal City</td>\n",
       "      <td>73.0</td>\n",
       "      <td>Apartments</td>\n",
       "      <td>2.0</td>\n",
       "      <td>3.0</td>\n",
       "      <td>1299855</td>\n",
       "    </tr>\n",
       "    <tr>\n",
       "      <th>4</th>\n",
       "      <td>التجمع الخامس بيت الوطن الحي التاني</td>\n",
       "      <td>172.0</td>\n",
       "      <td>Apartments</td>\n",
       "      <td>3.0</td>\n",
       "      <td>2.0</td>\n",
       "      <td>1330000</td>\n",
       "    </tr>\n",
       "  </tbody>\n",
       "</table>\n",
       "</div>"
      ],
      "text/plain": [
       "                                 place   area    building  bedroom  bath  \\\n",
       "0                الحي الأول, بيت الوطن  115.0        Roof      2.0   2.0   \n",
       "1           New Administrative Capital  156.0  Apartments      3.0   3.0   \n",
       "2                       Mostakbal City   83.0      Duplex      1.0   1.0   \n",
       "3                       Mostakbal City   73.0  Apartments      2.0   3.0   \n",
       "4  التجمع الخامس بيت الوطن الحي التاني  172.0  Apartments      3.0   2.0   \n",
       "\n",
       "     price  \n",
       "0   718750  \n",
       "1  1860000  \n",
       "2  1490110  \n",
       "3  1299855  \n",
       "4  1330000  "
      ]
     },
     "execution_count": 77,
     "metadata": {},
     "output_type": "execute_result"
    }
   ],
   "source": [
    "apartments_df.head()"
   ]
  }
 ],
 "metadata": {
  "kernelspec": {
   "display_name": "Python 3",
   "language": "python",
   "name": "python3"
  },
  "language_info": {
   "codemirror_mode": {
    "name": "ipython",
    "version": 3
   },
   "file_extension": ".py",
   "mimetype": "text/x-python",
   "name": "python",
   "nbconvert_exporter": "python",
   "pygments_lexer": "ipython3",
   "version": "3.8.8"
  }
 },
 "nbformat": 4,
 "nbformat_minor": 5
}
